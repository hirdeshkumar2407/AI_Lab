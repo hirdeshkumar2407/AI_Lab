{
 "cells": [
  {
   "cell_type": "code",
   "execution_count": 43,
   "metadata": {},
   "outputs": [],
   "source": [
    "#1812114\n",
    "#BSCS 6A\n",
    "#Hirdesh Kumar"
   ]
  },
  {
   "cell_type": "code",
   "execution_count": 44,
   "metadata": {},
   "outputs": [],
   "source": [
    "import csv"
   ]
  },
  {
   "cell_type": "code",
   "execution_count": 45,
   "metadata": {},
   "outputs": [],
   "source": [
    "filepath='hirdeshkumar-1812114.csv'"
   ]
  },
  {
   "cell_type": "code",
   "execution_count": 46,
   "metadata": {},
   "outputs": [],
   "source": [
    "# part 1 file open and creating\n",
    "\n",
    "def par1fileopen():\n",
    "    with open (filepath,'r+',newline=\"\") as file:\n",
    "        dataset=csv.reader(file)\n",
    "        \n",
    "        for row in dataset:\n",
    "            print(row)"
   ]
  },
  {
   "cell_type": "code",
   "execution_count": 47,
   "metadata": {},
   "outputs": [],
   "source": [
    "# part 2 file writing\n",
    "# dataset in form of list would be sent here\n",
    "def par2file(dataset):\n",
    "    with open (filepath,'w+',newline=\"\") as file:\n",
    "            data_insert=csv.writer(file,delimiter=',')\n",
    "            data_insert.writerows(dataset)"
   ]
  },
  {
   "cell_type": "code",
   "execution_count": 48,
   "metadata": {},
   "outputs": [],
   "source": [
    "rawdata =[[\"C-ID\",\"CustomerName\",\"ContactName\",\"Address\",\"City\",\"PostalCode\"],\n",
    "[\"89\",\"White Clover Markets\",\"Karl Jablonski \",\"305 - 14th Ave. S. Suite 3B \",\"Seattle\",\"98128\"],\n",
    "[\"90\",\"Wilman Kala \",\"Matti Karttunen \",\"Keskuskatu 45 \",\"Helsinki \",\"21240 \"],\n",
    "[\"91\",\"Wolski\",\"Zbyszek \",\"ul. Filtrowa 68 \",\"Walla \",\"01-012 \"]]\n"
   ]
  },
  {
   "cell_type": "code",
   "execution_count": 49,
   "metadata": {},
   "outputs": [],
   "source": [
    "# Now i'll be writing the data in file\n",
    "par2file(rawdata)"
   ]
  },
  {
   "cell_type": "code",
   "execution_count": 50,
   "metadata": {},
   "outputs": [
    {
     "name": "stdout",
     "output_type": "stream",
     "text": [
      "['C-ID', 'CustomerName', 'ContactName', 'Address', 'City', 'PostalCode']\n",
      "['89', 'White Clover Markets', 'Karl Jablonski ', '305 - 14th Ave. S. Suite 3B ', 'Seattle', '98128']\n",
      "['90', 'Wilman Kala ', 'Matti Karttunen ', 'Keskuskatu 45 ', 'Helsinki ', '21240 ']\n",
      "['91', 'Wolski', 'Zbyszek ', 'ul. Filtrowa 68 ', 'Walla ', '01-012 ']\n"
     ]
    }
   ],
   "source": [
    "# Now i'll be printing the data from file\n",
    "par1fileopen()"
   ]
  },
  {
   "cell_type": "code",
   "execution_count": null,
   "metadata": {},
   "outputs": [],
   "source": []
  }
 ],
 "metadata": {
  "kernelspec": {
   "display_name": "Python 3",
   "language": "python",
   "name": "python3"
  },
  "language_info": {
   "codemirror_mode": {
    "name": "ipython",
    "version": 3
   },
   "file_extension": ".py",
   "mimetype": "text/x-python",
   "name": "python",
   "nbconvert_exporter": "python",
   "pygments_lexer": "ipython3",
   "version": "3.8.5"
  }
 },
 "nbformat": 4,
 "nbformat_minor": 4
}
