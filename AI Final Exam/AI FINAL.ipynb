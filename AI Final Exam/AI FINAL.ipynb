{
 "cells": [
  {
   "cell_type": "code",
   "execution_count": 130,
   "metadata": {},
   "outputs": [],
   "source": [
    "import pandas as pd\n",
    "ds=pd.read_csv(\"winedatafinal(withnullvalues).csv\")\n"
   ]
  },
  {
   "cell_type": "code",
   "execution_count": 131,
   "metadata": {},
   "outputs": [
    {
     "data": {
      "text/html": [
       "<div>\n",
       "<style scoped>\n",
       "    .dataframe tbody tr th:only-of-type {\n",
       "        vertical-align: middle;\n",
       "    }\n",
       "\n",
       "    .dataframe tbody tr th {\n",
       "        vertical-align: top;\n",
       "    }\n",
       "\n",
       "    .dataframe thead th {\n",
       "        text-align: right;\n",
       "    }\n",
       "</style>\n",
       "<table border=\"1\" class=\"dataframe\">\n",
       "  <thead>\n",
       "    <tr style=\"text-align: right;\">\n",
       "      <th></th>\n",
       "      <th>Malic Acid</th>\n",
       "      <th>Ash</th>\n",
       "      <th>Alcalinity of ash</th>\n",
       "      <th>Magnesium</th>\n",
       "      <th>Total phenols</th>\n",
       "      <th>Flavanoids</th>\n",
       "      <th>Nonflavanoid</th>\n",
       "      <th>phenols</th>\n",
       "      <th>Proanthocyanins</th>\n",
       "      <th>Color intensity</th>\n",
       "      <th>Hue</th>\n",
       "      <th>OD280/OD315 of diluted wines</th>\n",
       "      <th>Proline</th>\n",
       "      <th>Alcohol</th>\n",
       "    </tr>\n",
       "  </thead>\n",
       "  <tbody>\n",
       "    <tr>\n",
       "      <th>0</th>\n",
       "      <td>14.23</td>\n",
       "      <td>1.71</td>\n",
       "      <td>2.43</td>\n",
       "      <td>15.6</td>\n",
       "      <td>127</td>\n",
       "      <td>2.80</td>\n",
       "      <td>3.06</td>\n",
       "      <td>0.28</td>\n",
       "      <td>NaN</td>\n",
       "      <td>5.64</td>\n",
       "      <td>1.04</td>\n",
       "      <td>3.92</td>\n",
       "      <td>1065</td>\n",
       "      <td>1</td>\n",
       "    </tr>\n",
       "    <tr>\n",
       "      <th>1</th>\n",
       "      <td>13.20</td>\n",
       "      <td>1.78</td>\n",
       "      <td>2.14</td>\n",
       "      <td>11.2</td>\n",
       "      <td>100</td>\n",
       "      <td>2.65</td>\n",
       "      <td>2.76</td>\n",
       "      <td>0.26</td>\n",
       "      <td>1.28</td>\n",
       "      <td>4.38</td>\n",
       "      <td>1.05</td>\n",
       "      <td>3.40</td>\n",
       "      <td>1050</td>\n",
       "      <td>1</td>\n",
       "    </tr>\n",
       "    <tr>\n",
       "      <th>2</th>\n",
       "      <td>13.16</td>\n",
       "      <td>2.36</td>\n",
       "      <td>2.67</td>\n",
       "      <td>18.6</td>\n",
       "      <td>101</td>\n",
       "      <td>2.80</td>\n",
       "      <td>3.24</td>\n",
       "      <td>0.30</td>\n",
       "      <td>2.81</td>\n",
       "      <td>5.68</td>\n",
       "      <td>1.03</td>\n",
       "      <td>3.17</td>\n",
       "      <td>1185</td>\n",
       "      <td>1</td>\n",
       "    </tr>\n",
       "    <tr>\n",
       "      <th>3</th>\n",
       "      <td>14.37</td>\n",
       "      <td>1.95</td>\n",
       "      <td>2.50</td>\n",
       "      <td>16.8</td>\n",
       "      <td>113</td>\n",
       "      <td>3.85</td>\n",
       "      <td>3.49</td>\n",
       "      <td>0.24</td>\n",
       "      <td>2.18</td>\n",
       "      <td>7.80</td>\n",
       "      <td>0.86</td>\n",
       "      <td>3.45</td>\n",
       "      <td>1480</td>\n",
       "      <td>1</td>\n",
       "    </tr>\n",
       "    <tr>\n",
       "      <th>4</th>\n",
       "      <td>13.24</td>\n",
       "      <td>2.59</td>\n",
       "      <td>2.87</td>\n",
       "      <td>NaN</td>\n",
       "      <td>118</td>\n",
       "      <td>2.80</td>\n",
       "      <td>2.69</td>\n",
       "      <td>0.39</td>\n",
       "      <td>1.82</td>\n",
       "      <td>4.32</td>\n",
       "      <td>1.04</td>\n",
       "      <td>2.93</td>\n",
       "      <td>735</td>\n",
       "      <td>1</td>\n",
       "    </tr>\n",
       "  </tbody>\n",
       "</table>\n",
       "</div>"
      ],
      "text/plain": [
       "   Malic Acid   Ash  Alcalinity of ash  Magnesium  Total phenols  Flavanoids  \\\n",
       "0       14.23  1.71               2.43       15.6            127        2.80   \n",
       "1       13.20  1.78               2.14       11.2            100        2.65   \n",
       "2       13.16  2.36               2.67       18.6            101        2.80   \n",
       "3       14.37  1.95               2.50       16.8            113        3.85   \n",
       "4       13.24  2.59               2.87        NaN            118        2.80   \n",
       "\n",
       "   Nonflavanoid   phenols  Proanthocyanins  Color intensity   Hue  \\\n",
       "0           3.06     0.28              NaN             5.64  1.04   \n",
       "1           2.76     0.26             1.28             4.38  1.05   \n",
       "2           3.24     0.30             2.81             5.68  1.03   \n",
       "3           3.49     0.24             2.18             7.80  0.86   \n",
       "4           2.69     0.39             1.82             4.32  1.04   \n",
       "\n",
       "   OD280/OD315 of diluted wines  Proline  Alcohol  \n",
       "0                          3.92     1065        1  \n",
       "1                          3.40     1050        1  \n",
       "2                          3.17     1185        1  \n",
       "3                          3.45     1480        1  \n",
       "4                          2.93      735        1  "
      ]
     },
     "execution_count": 131,
     "metadata": {},
     "output_type": "execute_result"
    }
   ],
   "source": [
    "ds.head()"
   ]
  },
  {
   "cell_type": "code",
   "execution_count": 132,
   "metadata": {},
   "outputs": [
    {
     "data": {
      "text/plain": [
       "Malic Acid                      0\n",
       "Ash                             0\n",
       "Alcalinity of ash               2\n",
       "Magnesium                       1\n",
       "Total phenols                   0\n",
       "Flavanoids                      3\n",
       "Nonflavanoid                    2\n",
       "phenols                         0\n",
       "Proanthocyanins                 6\n",
       "Color intensity                 0\n",
       "Hue                             1\n",
       "OD280/OD315 of diluted wines    0\n",
       "Proline                         0\n",
       "Alcohol                         0\n",
       "dtype: int64"
      ]
     },
     "execution_count": 132,
     "metadata": {},
     "output_type": "execute_result"
    }
   ],
   "source": [
    "ds.isnull().sum()"
   ]
  },
  {
   "cell_type": "code",
   "execution_count": 133,
   "metadata": {
    "scrolled": false
   },
   "outputs": [
    {
     "name": "stdout",
     "output_type": "stream",
     "text": [
      "<class 'pandas.core.frame.DataFrame'>\n",
      "RangeIndex: 178 entries, 0 to 177\n",
      "Data columns (total 14 columns):\n",
      " #   Column                        Non-Null Count  Dtype  \n",
      "---  ------                        --------------  -----  \n",
      " 0   Malic Acid                    178 non-null    float64\n",
      " 1   Ash                           178 non-null    float64\n",
      " 2   Alcalinity of ash             176 non-null    float64\n",
      " 3   Magnesium                     177 non-null    float64\n",
      " 4   Total phenols                 178 non-null    int64  \n",
      " 5   Flavanoids                    175 non-null    float64\n",
      " 6   Nonflavanoid                  176 non-null    float64\n",
      " 7   phenols                       178 non-null    float64\n",
      " 8   Proanthocyanins               172 non-null    float64\n",
      " 9   Color intensity               178 non-null    float64\n",
      " 10  Hue                           177 non-null    float64\n",
      " 11  OD280/OD315 of diluted wines  178 non-null    float64\n",
      " 12  Proline                       178 non-null    int64  \n",
      " 13  Alcohol                       178 non-null    int64  \n",
      "dtypes: float64(11), int64(3)\n",
      "memory usage: 19.6 KB\n"
     ]
    }
   ],
   "source": [
    "ds.info()"
   ]
  },
  {
   "cell_type": "code",
   "execution_count": 134,
   "metadata": {},
   "outputs": [
    {
     "data": {
      "text/plain": [
       "Malic Acid                      0\n",
       "Ash                             0\n",
       "Alcalinity of ash               2\n",
       "Magnesium                       1\n",
       "Total phenols                   0\n",
       "Flavanoids                      3\n",
       "Nonflavanoid                    2\n",
       "phenols                         0\n",
       "Proanthocyanins                 6\n",
       "Color intensity                 0\n",
       "Hue                             1\n",
       "OD280/OD315 of diluted wines    0\n",
       "Proline                         0\n",
       "Alcohol                         0\n",
       "dtype: int64"
      ]
     },
     "execution_count": 134,
     "metadata": {},
     "output_type": "execute_result"
    }
   ],
   "source": [
    "ds.isnull().sum()"
   ]
  },
  {
   "cell_type": "code",
   "execution_count": 135,
   "metadata": {},
   "outputs": [
    {
     "data": {
      "text/html": [
       "<div>\n",
       "<style scoped>\n",
       "    .dataframe tbody tr th:only-of-type {\n",
       "        vertical-align: middle;\n",
       "    }\n",
       "\n",
       "    .dataframe tbody tr th {\n",
       "        vertical-align: top;\n",
       "    }\n",
       "\n",
       "    .dataframe thead th {\n",
       "        text-align: right;\n",
       "    }\n",
       "</style>\n",
       "<table border=\"1\" class=\"dataframe\">\n",
       "  <thead>\n",
       "    <tr style=\"text-align: right;\">\n",
       "      <th></th>\n",
       "      <th>Malic Acid</th>\n",
       "      <th>Ash</th>\n",
       "      <th>Alcalinity of ash</th>\n",
       "      <th>Magnesium</th>\n",
       "      <th>Total phenols</th>\n",
       "      <th>Flavanoids</th>\n",
       "      <th>Nonflavanoid</th>\n",
       "      <th>phenols</th>\n",
       "      <th>Proanthocyanins</th>\n",
       "      <th>Color intensity</th>\n",
       "      <th>Hue</th>\n",
       "      <th>OD280/OD315 of diluted wines</th>\n",
       "      <th>Proline</th>\n",
       "      <th>Alcohol</th>\n",
       "    </tr>\n",
       "  </thead>\n",
       "  <tbody>\n",
       "    <tr>\n",
       "      <th>0</th>\n",
       "      <td>14.23</td>\n",
       "      <td>1.71</td>\n",
       "      <td>2.43</td>\n",
       "      <td>15.6</td>\n",
       "      <td>127</td>\n",
       "      <td>2.80</td>\n",
       "      <td>3.06</td>\n",
       "      <td>0.28</td>\n",
       "      <td>NaN</td>\n",
       "      <td>5.64</td>\n",
       "      <td>1.04</td>\n",
       "      <td>3.92</td>\n",
       "      <td>1065</td>\n",
       "      <td>1</td>\n",
       "    </tr>\n",
       "    <tr>\n",
       "      <th>1</th>\n",
       "      <td>13.20</td>\n",
       "      <td>1.78</td>\n",
       "      <td>2.14</td>\n",
       "      <td>11.2</td>\n",
       "      <td>100</td>\n",
       "      <td>2.65</td>\n",
       "      <td>2.76</td>\n",
       "      <td>0.26</td>\n",
       "      <td>1.28</td>\n",
       "      <td>4.38</td>\n",
       "      <td>1.05</td>\n",
       "      <td>3.40</td>\n",
       "      <td>1050</td>\n",
       "      <td>1</td>\n",
       "    </tr>\n",
       "    <tr>\n",
       "      <th>2</th>\n",
       "      <td>13.16</td>\n",
       "      <td>2.36</td>\n",
       "      <td>2.67</td>\n",
       "      <td>18.6</td>\n",
       "      <td>101</td>\n",
       "      <td>2.80</td>\n",
       "      <td>3.24</td>\n",
       "      <td>0.30</td>\n",
       "      <td>2.81</td>\n",
       "      <td>5.68</td>\n",
       "      <td>1.03</td>\n",
       "      <td>3.17</td>\n",
       "      <td>1185</td>\n",
       "      <td>1</td>\n",
       "    </tr>\n",
       "    <tr>\n",
       "      <th>3</th>\n",
       "      <td>14.37</td>\n",
       "      <td>1.95</td>\n",
       "      <td>2.50</td>\n",
       "      <td>16.8</td>\n",
       "      <td>113</td>\n",
       "      <td>3.85</td>\n",
       "      <td>3.49</td>\n",
       "      <td>0.24</td>\n",
       "      <td>2.18</td>\n",
       "      <td>7.80</td>\n",
       "      <td>0.86</td>\n",
       "      <td>3.45</td>\n",
       "      <td>1480</td>\n",
       "      <td>1</td>\n",
       "    </tr>\n",
       "    <tr>\n",
       "      <th>4</th>\n",
       "      <td>13.24</td>\n",
       "      <td>2.59</td>\n",
       "      <td>2.87</td>\n",
       "      <td>NaN</td>\n",
       "      <td>118</td>\n",
       "      <td>2.80</td>\n",
       "      <td>2.69</td>\n",
       "      <td>0.39</td>\n",
       "      <td>1.82</td>\n",
       "      <td>4.32</td>\n",
       "      <td>1.04</td>\n",
       "      <td>2.93</td>\n",
       "      <td>735</td>\n",
       "      <td>1</td>\n",
       "    </tr>\n",
       "    <tr>\n",
       "      <th>...</th>\n",
       "      <td>...</td>\n",
       "      <td>...</td>\n",
       "      <td>...</td>\n",
       "      <td>...</td>\n",
       "      <td>...</td>\n",
       "      <td>...</td>\n",
       "      <td>...</td>\n",
       "      <td>...</td>\n",
       "      <td>...</td>\n",
       "      <td>...</td>\n",
       "      <td>...</td>\n",
       "      <td>...</td>\n",
       "      <td>...</td>\n",
       "      <td>...</td>\n",
       "    </tr>\n",
       "    <tr>\n",
       "      <th>173</th>\n",
       "      <td>13.71</td>\n",
       "      <td>5.65</td>\n",
       "      <td>2.45</td>\n",
       "      <td>20.5</td>\n",
       "      <td>95</td>\n",
       "      <td>1.68</td>\n",
       "      <td>0.61</td>\n",
       "      <td>0.52</td>\n",
       "      <td>1.06</td>\n",
       "      <td>7.70</td>\n",
       "      <td>0.64</td>\n",
       "      <td>1.74</td>\n",
       "      <td>740</td>\n",
       "      <td>3</td>\n",
       "    </tr>\n",
       "    <tr>\n",
       "      <th>174</th>\n",
       "      <td>13.40</td>\n",
       "      <td>3.91</td>\n",
       "      <td>2.48</td>\n",
       "      <td>23.0</td>\n",
       "      <td>102</td>\n",
       "      <td>1.80</td>\n",
       "      <td>0.75</td>\n",
       "      <td>0.43</td>\n",
       "      <td>1.41</td>\n",
       "      <td>7.30</td>\n",
       "      <td>0.70</td>\n",
       "      <td>1.56</td>\n",
       "      <td>750</td>\n",
       "      <td>3</td>\n",
       "    </tr>\n",
       "    <tr>\n",
       "      <th>175</th>\n",
       "      <td>13.27</td>\n",
       "      <td>4.28</td>\n",
       "      <td>2.26</td>\n",
       "      <td>20.0</td>\n",
       "      <td>120</td>\n",
       "      <td>1.59</td>\n",
       "      <td>0.69</td>\n",
       "      <td>0.43</td>\n",
       "      <td>1.35</td>\n",
       "      <td>10.20</td>\n",
       "      <td>0.59</td>\n",
       "      <td>1.56</td>\n",
       "      <td>835</td>\n",
       "      <td>3</td>\n",
       "    </tr>\n",
       "    <tr>\n",
       "      <th>176</th>\n",
       "      <td>13.17</td>\n",
       "      <td>2.59</td>\n",
       "      <td>2.37</td>\n",
       "      <td>20.0</td>\n",
       "      <td>120</td>\n",
       "      <td>1.65</td>\n",
       "      <td>0.68</td>\n",
       "      <td>0.53</td>\n",
       "      <td>1.46</td>\n",
       "      <td>9.30</td>\n",
       "      <td>0.60</td>\n",
       "      <td>1.62</td>\n",
       "      <td>840</td>\n",
       "      <td>3</td>\n",
       "    </tr>\n",
       "    <tr>\n",
       "      <th>177</th>\n",
       "      <td>14.13</td>\n",
       "      <td>4.10</td>\n",
       "      <td>2.74</td>\n",
       "      <td>24.5</td>\n",
       "      <td>96</td>\n",
       "      <td>2.05</td>\n",
       "      <td>0.76</td>\n",
       "      <td>0.56</td>\n",
       "      <td>NaN</td>\n",
       "      <td>9.20</td>\n",
       "      <td>0.61</td>\n",
       "      <td>1.60</td>\n",
       "      <td>560</td>\n",
       "      <td>3</td>\n",
       "    </tr>\n",
       "  </tbody>\n",
       "</table>\n",
       "<p>178 rows × 14 columns</p>\n",
       "</div>"
      ],
      "text/plain": [
       "     Malic Acid   Ash  Alcalinity of ash  Magnesium  Total phenols  \\\n",
       "0         14.23  1.71               2.43       15.6            127   \n",
       "1         13.20  1.78               2.14       11.2            100   \n",
       "2         13.16  2.36               2.67       18.6            101   \n",
       "3         14.37  1.95               2.50       16.8            113   \n",
       "4         13.24  2.59               2.87        NaN            118   \n",
       "..          ...   ...                ...        ...            ...   \n",
       "173       13.71  5.65               2.45       20.5             95   \n",
       "174       13.40  3.91               2.48       23.0            102   \n",
       "175       13.27  4.28               2.26       20.0            120   \n",
       "176       13.17  2.59               2.37       20.0            120   \n",
       "177       14.13  4.10               2.74       24.5             96   \n",
       "\n",
       "     Flavanoids  Nonflavanoid   phenols  Proanthocyanins  Color intensity  \\\n",
       "0          2.80           3.06     0.28              NaN             5.64   \n",
       "1          2.65           2.76     0.26             1.28             4.38   \n",
       "2          2.80           3.24     0.30             2.81             5.68   \n",
       "3          3.85           3.49     0.24             2.18             7.80   \n",
       "4          2.80           2.69     0.39             1.82             4.32   \n",
       "..          ...            ...      ...              ...              ...   \n",
       "173        1.68           0.61     0.52             1.06             7.70   \n",
       "174        1.80           0.75     0.43             1.41             7.30   \n",
       "175        1.59           0.69     0.43             1.35            10.20   \n",
       "176        1.65           0.68     0.53             1.46             9.30   \n",
       "177        2.05           0.76     0.56              NaN             9.20   \n",
       "\n",
       "      Hue  OD280/OD315 of diluted wines  Proline  Alcohol  \n",
       "0    1.04                          3.92     1065        1  \n",
       "1    1.05                          3.40     1050        1  \n",
       "2    1.03                          3.17     1185        1  \n",
       "3    0.86                          3.45     1480        1  \n",
       "4    1.04                          2.93      735        1  \n",
       "..    ...                           ...      ...      ...  \n",
       "173  0.64                          1.74      740        3  \n",
       "174  0.70                          1.56      750        3  \n",
       "175  0.59                          1.56      835        3  \n",
       "176  0.60                          1.62      840        3  \n",
       "177  0.61                          1.60      560        3  \n",
       "\n",
       "[178 rows x 14 columns]"
      ]
     },
     "execution_count": 135,
     "metadata": {},
     "output_type": "execute_result"
    }
   ],
   "source": [
    "ds"
   ]
  },
  {
   "cell_type": "code",
   "execution_count": 136,
   "metadata": {},
   "outputs": [
    {
     "data": {
      "text/plain": [
       "Malic Acid                      0\n",
       "Ash                             0\n",
       "Alcalinity of ash               2\n",
       "Magnesium                       1\n",
       "Total phenols                   0\n",
       "Flavanoids                      3\n",
       "Nonflavanoid                    2\n",
       "phenols                         0\n",
       "Proanthocyanins                 6\n",
       "Color intensity                 0\n",
       "Hue                             1\n",
       "OD280/OD315 of diluted wines    0\n",
       "Proline                         0\n",
       "Alcohol                         0\n",
       "dtype: int64"
      ]
     },
     "execution_count": 136,
     "metadata": {},
     "output_type": "execute_result"
    }
   ],
   "source": [
    "ds.isnull().sum()"
   ]
  },
  {
   "cell_type": "code",
   "execution_count": 137,
   "metadata": {},
   "outputs": [],
   "source": [
    "\n",
    "ds[\"Alcalinity of ash\"] = ds.fillna(\"unknown\")\n",
    "ds[\"Magnesium\"] = ds.fillna(\"unknown\")\n",
    "ds[\"Flavanoids\"] = ds.fillna(\"unknown\")\n",
    "ds[\"Proanthocyanins\"] = ds.fillna(\"unknown\")\n",
    "ds[\"Hue\"] = ds.fillna(\"unknown\")\n",
    "ds[\"Nonflavanoid \"] = ds.fillna(\"unknown\")"
   ]
  },
  {
   "cell_type": "code",
   "execution_count": 138,
   "metadata": {},
   "outputs": [
    {
     "data": {
      "text/plain": [
       "Malic Acid                      0\n",
       "Ash                             0\n",
       "Alcalinity of ash               0\n",
       "Magnesium                       0\n",
       "Total phenols                   0\n",
       "Flavanoids                      0\n",
       "Nonflavanoid                    0\n",
       "phenols                         0\n",
       "Proanthocyanins                 0\n",
       "Color intensity                 0\n",
       "Hue                             0\n",
       "OD280/OD315 of diluted wines    0\n",
       "Proline                         0\n",
       "Alcohol                         0\n",
       "dtype: int64"
      ]
     },
     "execution_count": 138,
     "metadata": {},
     "output_type": "execute_result"
    }
   ],
   "source": [
    "ds.isnull().sum()"
   ]
  },
  {
   "cell_type": "code",
   "execution_count": 139,
   "metadata": {
    "scrolled": true
   },
   "outputs": [
    {
     "name": "stdout",
     "output_type": "stream",
     "text": [
      "<class 'pandas.core.frame.DataFrame'>\n",
      "RangeIndex: 178 entries, 0 to 177\n",
      "Data columns (total 14 columns):\n",
      " #   Column                        Non-Null Count  Dtype  \n",
      "---  ------                        --------------  -----  \n",
      " 0   Malic Acid                    178 non-null    float64\n",
      " 1   Ash                           178 non-null    float64\n",
      " 2   Alcalinity of ash             178 non-null    object \n",
      " 3   Magnesium                     178 non-null    object \n",
      " 4   Total phenols                 178 non-null    int64  \n",
      " 5   Flavanoids                    178 non-null    object \n",
      " 6   Nonflavanoid                  178 non-null    object \n",
      " 7   phenols                       178 non-null    float64\n",
      " 8   Proanthocyanins               178 non-null    object \n",
      " 9   Color intensity               178 non-null    float64\n",
      " 10  Hue                           178 non-null    object \n",
      " 11  OD280/OD315 of diluted wines  178 non-null    float64\n",
      " 12  Proline                       178 non-null    int64  \n",
      " 13  Alcohol                       178 non-null    int64  \n",
      "dtypes: float64(5), int64(3), object(6)\n",
      "memory usage: 19.6+ KB\n"
     ]
    }
   ],
   "source": [
    "ds.info()"
   ]
  },
  {
   "cell_type": "code",
   "execution_count": 140,
   "metadata": {},
   "outputs": [],
   "source": [
    "ds[\"Alcalinity of ash\"] = pd.to_numeric(ds[\"Alcalinity of ash\"],errors='coerce')\n",
    "ds[\"Magnesium\"] = pd.to_numeric(ds[\"Magnesium\"],errors='coerce')\n",
    "ds[\"Nonflavanoid \"] = pd.to_numeric(ds[\"Nonflavanoid \"],errors='coerce')\n",
    "ds[\"Flavanoids\"] = pd.to_numeric(ds[\"Flavanoids\"],errors='coerce')\n",
    "ds[\"Proanthocyanins\"] = pd.to_numeric(ds[\"Proanthocyanins\"],errors='coerce')\n",
    "ds[\"Hue\"] = pd.to_numeric(ds[\"Hue\"],errors='coerce')"
   ]
  },
  {
   "cell_type": "code",
   "execution_count": 141,
   "metadata": {},
   "outputs": [
    {
     "name": "stdout",
     "output_type": "stream",
     "text": [
      "<class 'pandas.core.frame.DataFrame'>\n",
      "RangeIndex: 178 entries, 0 to 177\n",
      "Data columns (total 14 columns):\n",
      " #   Column                        Non-Null Count  Dtype  \n",
      "---  ------                        --------------  -----  \n",
      " 0   Malic Acid                    178 non-null    float64\n",
      " 1   Ash                           178 non-null    float64\n",
      " 2   Alcalinity of ash             178 non-null    float64\n",
      " 3   Magnesium                     178 non-null    float64\n",
      " 4   Total phenols                 178 non-null    int64  \n",
      " 5   Flavanoids                    178 non-null    float64\n",
      " 6   Nonflavanoid                  178 non-null    float64\n",
      " 7   phenols                       178 non-null    float64\n",
      " 8   Proanthocyanins               178 non-null    float64\n",
      " 9   Color intensity               178 non-null    float64\n",
      " 10  Hue                           178 non-null    float64\n",
      " 11  OD280/OD315 of diluted wines  178 non-null    float64\n",
      " 12  Proline                       178 non-null    int64  \n",
      " 13  Alcohol                       178 non-null    int64  \n",
      "dtypes: float64(11), int64(3)\n",
      "memory usage: 19.6 KB\n"
     ]
    }
   ],
   "source": [
    "ds.info()"
   ]
  },
  {
   "cell_type": "code",
   "execution_count": 142,
   "metadata": {},
   "outputs": [
    {
     "data": {
      "text/html": [
       "<div>\n",
       "<style scoped>\n",
       "    .dataframe tbody tr th:only-of-type {\n",
       "        vertical-align: middle;\n",
       "    }\n",
       "\n",
       "    .dataframe tbody tr th {\n",
       "        vertical-align: top;\n",
       "    }\n",
       "\n",
       "    .dataframe thead th {\n",
       "        text-align: right;\n",
       "    }\n",
       "</style>\n",
       "<table border=\"1\" class=\"dataframe\">\n",
       "  <thead>\n",
       "    <tr style=\"text-align: right;\">\n",
       "      <th></th>\n",
       "      <th>Malic Acid</th>\n",
       "      <th>Ash</th>\n",
       "      <th>Alcalinity of ash</th>\n",
       "      <th>Magnesium</th>\n",
       "      <th>Total phenols</th>\n",
       "      <th>Flavanoids</th>\n",
       "      <th>Nonflavanoid</th>\n",
       "      <th>phenols</th>\n",
       "      <th>Proanthocyanins</th>\n",
       "      <th>Color intensity</th>\n",
       "      <th>Hue</th>\n",
       "      <th>OD280/OD315 of diluted wines</th>\n",
       "      <th>Proline</th>\n",
       "      <th>Alcohol</th>\n",
       "    </tr>\n",
       "  </thead>\n",
       "  <tbody>\n",
       "    <tr>\n",
       "      <th>0</th>\n",
       "      <td>14.23</td>\n",
       "      <td>1.71</td>\n",
       "      <td>14.23</td>\n",
       "      <td>14.23</td>\n",
       "      <td>127</td>\n",
       "      <td>14.23</td>\n",
       "      <td>14.23</td>\n",
       "      <td>0.28</td>\n",
       "      <td>14.23</td>\n",
       "      <td>5.64</td>\n",
       "      <td>14.23</td>\n",
       "      <td>3.92</td>\n",
       "      <td>1065</td>\n",
       "      <td>1</td>\n",
       "    </tr>\n",
       "    <tr>\n",
       "      <th>1</th>\n",
       "      <td>13.20</td>\n",
       "      <td>1.78</td>\n",
       "      <td>13.20</td>\n",
       "      <td>13.20</td>\n",
       "      <td>100</td>\n",
       "      <td>13.20</td>\n",
       "      <td>13.20</td>\n",
       "      <td>0.26</td>\n",
       "      <td>13.20</td>\n",
       "      <td>4.38</td>\n",
       "      <td>13.20</td>\n",
       "      <td>3.40</td>\n",
       "      <td>1050</td>\n",
       "      <td>1</td>\n",
       "    </tr>\n",
       "    <tr>\n",
       "      <th>2</th>\n",
       "      <td>13.16</td>\n",
       "      <td>2.36</td>\n",
       "      <td>13.16</td>\n",
       "      <td>13.16</td>\n",
       "      <td>101</td>\n",
       "      <td>13.16</td>\n",
       "      <td>13.16</td>\n",
       "      <td>0.30</td>\n",
       "      <td>13.16</td>\n",
       "      <td>5.68</td>\n",
       "      <td>13.16</td>\n",
       "      <td>3.17</td>\n",
       "      <td>1185</td>\n",
       "      <td>1</td>\n",
       "    </tr>\n",
       "    <tr>\n",
       "      <th>3</th>\n",
       "      <td>14.37</td>\n",
       "      <td>1.95</td>\n",
       "      <td>14.37</td>\n",
       "      <td>14.37</td>\n",
       "      <td>113</td>\n",
       "      <td>14.37</td>\n",
       "      <td>14.37</td>\n",
       "      <td>0.24</td>\n",
       "      <td>14.37</td>\n",
       "      <td>7.80</td>\n",
       "      <td>14.37</td>\n",
       "      <td>3.45</td>\n",
       "      <td>1480</td>\n",
       "      <td>1</td>\n",
       "    </tr>\n",
       "    <tr>\n",
       "      <th>4</th>\n",
       "      <td>13.24</td>\n",
       "      <td>2.59</td>\n",
       "      <td>13.24</td>\n",
       "      <td>13.24</td>\n",
       "      <td>118</td>\n",
       "      <td>13.24</td>\n",
       "      <td>13.24</td>\n",
       "      <td>0.39</td>\n",
       "      <td>13.24</td>\n",
       "      <td>4.32</td>\n",
       "      <td>13.24</td>\n",
       "      <td>2.93</td>\n",
       "      <td>735</td>\n",
       "      <td>1</td>\n",
       "    </tr>\n",
       "  </tbody>\n",
       "</table>\n",
       "</div>"
      ],
      "text/plain": [
       "   Malic Acid   Ash  Alcalinity of ash  Magnesium  Total phenols  Flavanoids  \\\n",
       "0       14.23  1.71              14.23      14.23            127       14.23   \n",
       "1       13.20  1.78              13.20      13.20            100       13.20   \n",
       "2       13.16  2.36              13.16      13.16            101       13.16   \n",
       "3       14.37  1.95              14.37      14.37            113       14.37   \n",
       "4       13.24  2.59              13.24      13.24            118       13.24   \n",
       "\n",
       "   Nonflavanoid   phenols  Proanthocyanins  Color intensity    Hue  \\\n",
       "0          14.23     0.28            14.23             5.64  14.23   \n",
       "1          13.20     0.26            13.20             4.38  13.20   \n",
       "2          13.16     0.30            13.16             5.68  13.16   \n",
       "3          14.37     0.24            14.37             7.80  14.37   \n",
       "4          13.24     0.39            13.24             4.32  13.24   \n",
       "\n",
       "   OD280/OD315 of diluted wines  Proline  Alcohol  \n",
       "0                          3.92     1065        1  \n",
       "1                          3.40     1050        1  \n",
       "2                          3.17     1185        1  \n",
       "3                          3.45     1480        1  \n",
       "4                          2.93      735        1  "
      ]
     },
     "execution_count": 142,
     "metadata": {},
     "output_type": "execute_result"
    }
   ],
   "source": [
    "ds.head()"
   ]
  },
  {
   "cell_type": "code",
   "execution_count": 143,
   "metadata": {},
   "outputs": [],
   "source": [
    "df_x = ds.iloc[:, :-1].values\n",
    "df_y = ds.iloc[:, 13].values"
   ]
  },
  {
   "cell_type": "code",
   "execution_count": 144,
   "metadata": {},
   "outputs": [
    {
     "data": {
      "text/plain": [
       "array([[  14.23,    1.71,   14.23, ...,   14.23,    3.92, 1065.  ],\n",
       "       [  13.2 ,    1.78,   13.2 , ...,   13.2 ,    3.4 , 1050.  ],\n",
       "       [  13.16,    2.36,   13.16, ...,   13.16,    3.17, 1185.  ],\n",
       "       ...,\n",
       "       [  13.27,    4.28,   13.27, ...,   13.27,    1.56,  835.  ],\n",
       "       [  13.17,    2.59,   13.17, ...,   13.17,    1.62,  840.  ],\n",
       "       [  14.13,    4.1 ,   14.13, ...,   14.13,    1.6 ,  560.  ]])"
      ]
     },
     "execution_count": 144,
     "metadata": {},
     "output_type": "execute_result"
    }
   ],
   "source": [
    "df_x"
   ]
  },
  {
   "cell_type": "code",
   "execution_count": 145,
   "metadata": {},
   "outputs": [
    {
     "data": {
      "text/plain": [
       "array([1, 1, 1, 1, 1, 1, 1, 1, 1, 1, 1, 1, 1, 1, 1, 1, 1, 1, 1, 1, 1, 1,\n",
       "       1, 1, 1, 1, 1, 1, 1, 1, 1, 1, 1, 1, 1, 1, 1, 1, 1, 1, 1, 1, 1, 1,\n",
       "       1, 1, 1, 1, 1, 1, 1, 1, 1, 1, 1, 1, 1, 1, 1, 2, 2, 2, 2, 2, 2, 2,\n",
       "       2, 2, 2, 2, 2, 2, 2, 2, 2, 2, 2, 2, 2, 2, 2, 2, 2, 2, 2, 2, 2, 2,\n",
       "       2, 2, 2, 2, 2, 2, 2, 2, 2, 2, 2, 2, 2, 2, 2, 2, 2, 2, 2, 2, 2, 2,\n",
       "       2, 2, 2, 2, 2, 2, 2, 2, 2, 2, 2, 2, 2, 2, 2, 2, 2, 2, 2, 2, 3, 3,\n",
       "       3, 3, 3, 3, 3, 3, 3, 3, 3, 3, 3, 3, 3, 3, 3, 3, 3, 3, 3, 3, 3, 3,\n",
       "       3, 3, 3, 3, 3, 3, 3, 3, 3, 3, 3, 3, 3, 3, 3, 3, 3, 3, 3, 3, 3, 3,\n",
       "       3, 3], dtype=int64)"
      ]
     },
     "execution_count": 145,
     "metadata": {},
     "output_type": "execute_result"
    }
   ],
   "source": [
    "df_y"
   ]
  },
  {
   "cell_type": "code",
   "execution_count": 146,
   "metadata": {},
   "outputs": [
    {
     "name": "stdout",
     "output_type": "stream",
     "text": [
      "[[  14.23    1.71   14.23 ...   14.23    3.92 1065.  ]\n",
      " [  13.2     1.78   13.2  ...   13.2     3.4  1050.  ]\n",
      " [  13.16    2.36   13.16 ...   13.16    3.17 1185.  ]\n",
      " ...\n",
      " [  13.27    4.28   13.27 ...   13.27    1.56  835.  ]\n",
      " [  13.17    2.59   13.17 ...   13.17    1.62  840.  ]\n",
      " [  14.13    4.1    14.13 ...   14.13    1.6   560.  ]]\n"
     ]
    }
   ],
   "source": [
    "attributes=df_x\n",
    "print(attributes)"
   ]
  },
  {
   "cell_type": "code",
   "execution_count": 147,
   "metadata": {},
   "outputs": [
    {
     "name": "stdout",
     "output_type": "stream",
     "text": [
      "[1 1 1 1 1 1 1 1 1 1 1 1 1 1 1 1 1 1 1 1 1 1 1 1 1 1 1 1 1 1 1 1 1 1 1 1 1\n",
      " 1 1 1 1 1 1 1 1 1 1 1 1 1 1 1 1 1 1 1 1 1 1 2 2 2 2 2 2 2 2 2 2 2 2 2 2 2\n",
      " 2 2 2 2 2 2 2 2 2 2 2 2 2 2 2 2 2 2 2 2 2 2 2 2 2 2 2 2 2 2 2 2 2 2 2 2 2\n",
      " 2 2 2 2 2 2 2 2 2 2 2 2 2 2 2 2 2 2 2 3 3 3 3 3 3 3 3 3 3 3 3 3 3 3 3 3 3\n",
      " 3 3 3 3 3 3 3 3 3 3 3 3 3 3 3 3 3 3 3 3 3 3 3 3 3 3 3 3 3 3]\n"
     ]
    }
   ],
   "source": [
    "label=df_y\n",
    "print(label)"
   ]
  },
  {
   "cell_type": "code",
   "execution_count": 148,
   "metadata": {},
   "outputs": [],
   "source": [
    "\n",
    "\n",
    "from sklearn.model_selection import train_test_split\n",
    "from sklearn.neighbors import KNeighborsClassifier"
   ]
  },
  {
   "cell_type": "code",
   "execution_count": 149,
   "metadata": {},
   "outputs": [],
   "source": [
    "X_train,X_test,y_train,y_test = train_test_split(attributes,label,test_size=0.30)"
   ]
  },
  {
   "cell_type": "code",
   "execution_count": 152,
   "metadata": {},
   "outputs": [],
   "source": [
    "\n",
    "classifier=KNeighborsClassifier(n_neighbors=4)\n",
    "classifier.fit(X_train,y_train)\n",
    "y_predict = classifier.predict(X_test)"
   ]
  },
  {
   "cell_type": "code",
   "execution_count": null,
   "metadata": {},
   "outputs": [],
   "source": [
    "\n"
   ]
  },
  {
   "cell_type": "code",
   "execution_count": 153,
   "metadata": {},
   "outputs": [
    {
     "name": "stdout",
     "output_type": "stream",
     "text": [
      "[3 1 2 2 2 2 1 1 1 2 1 3 3 1 3 1 1 1 2 1 2 2 3 2 1 1 1 1 3 1 1 2 2 1 1 2 2\n",
      " 2 1 2 1 2 3 2 1 3 3 2 1 3 3 2 2 3]\n"
     ]
    }
   ],
   "source": [
    "print(y_test)"
   ]
  },
  {
   "cell_type": "code",
   "execution_count": 154,
   "metadata": {},
   "outputs": [
    {
     "name": "stdout",
     "output_type": "stream",
     "text": [
      "[2 1 2 1 1 2 1 1 1 2 1 2 2 3 2 1 1 1 2 1 2 2 2 2 1 1 1 1 2 3 1 2 2 1 1 3 2\n",
      " 2 1 3 1 2 3 2 1 2 2 2 1 2 2 3 1 3]\n"
     ]
    }
   ],
   "source": [
    "\n",
    "\n",
    "print(y_predict)"
   ]
  },
  {
   "cell_type": "code",
   "execution_count": 173,
   "metadata": {},
   "outputs": [],
   "source": [
    "df = pd.read_csv('Details.csv',encoding=\"ISO-8859-1\")"
   ]
  },
  {
   "cell_type": "code",
   "execution_count": 174,
   "metadata": {},
   "outputs": [
    {
     "data": {
      "text/plain": [
       "(13149, 6)"
      ]
     },
     "execution_count": 174,
     "metadata": {},
     "output_type": "execute_result"
    }
   ],
   "source": [
    "df.shape"
   ]
  },
  {
   "cell_type": "code",
   "execution_count": 175,
   "metadata": {},
   "outputs": [
    {
     "data": {
      "text/html": [
       "<div>\n",
       "<style scoped>\n",
       "    .dataframe tbody tr th:only-of-type {\n",
       "        vertical-align: middle;\n",
       "    }\n",
       "\n",
       "    .dataframe tbody tr th {\n",
       "        vertical-align: top;\n",
       "    }\n",
       "\n",
       "    .dataframe thead th {\n",
       "        text-align: right;\n",
       "    }\n",
       "</style>\n",
       "<table border=\"1\" class=\"dataframe\">\n",
       "  <thead>\n",
       "    <tr style=\"text-align: right;\">\n",
       "      <th></th>\n",
       "      <th>is_hybrid</th>\n",
       "    </tr>\n",
       "  </thead>\n",
       "  <tbody>\n",
       "    <tr>\n",
       "      <th>count</th>\n",
       "      <td>13149.000000</td>\n",
       "    </tr>\n",
       "    <tr>\n",
       "      <th>mean</th>\n",
       "      <td>0.131949</td>\n",
       "    </tr>\n",
       "    <tr>\n",
       "      <th>std</th>\n",
       "      <td>0.338448</td>\n",
       "    </tr>\n",
       "    <tr>\n",
       "      <th>min</th>\n",
       "      <td>0.000000</td>\n",
       "    </tr>\n",
       "    <tr>\n",
       "      <th>25%</th>\n",
       "      <td>0.000000</td>\n",
       "    </tr>\n",
       "    <tr>\n",
       "      <th>50%</th>\n",
       "      <td>0.000000</td>\n",
       "    </tr>\n",
       "    <tr>\n",
       "      <th>75%</th>\n",
       "      <td>0.000000</td>\n",
       "    </tr>\n",
       "    <tr>\n",
       "      <th>max</th>\n",
       "      <td>1.000000</td>\n",
       "    </tr>\n",
       "  </tbody>\n",
       "</table>\n",
       "</div>"
      ],
      "text/plain": [
       "          is_hybrid\n",
       "count  13149.000000\n",
       "mean       0.131949\n",
       "std        0.338448\n",
       "min        0.000000\n",
       "25%        0.000000\n",
       "50%        0.000000\n",
       "75%        0.000000\n",
       "max        1.000000"
      ]
     },
     "execution_count": 175,
     "metadata": {},
     "output_type": "execute_result"
    }
   ],
   "source": [
    "df.describe()"
   ]
  },
  {
   "cell_type": "code",
   "execution_count": 176,
   "metadata": {},
   "outputs": [
    {
     "data": {
      "text/html": [
       "<div>\n",
       "<style scoped>\n",
       "    .dataframe tbody tr th:only-of-type {\n",
       "        vertical-align: middle;\n",
       "    }\n",
       "\n",
       "    .dataframe tbody tr th {\n",
       "        vertical-align: top;\n",
       "    }\n",
       "\n",
       "    .dataframe thead th {\n",
       "        text-align: right;\n",
       "    }\n",
       "</style>\n",
       "<table border=\"1\" class=\"dataframe\">\n",
       "  <thead>\n",
       "    <tr style=\"text-align: right;\">\n",
       "      <th></th>\n",
       "      <th>issn</th>\n",
       "      <th>journal_name</th>\n",
       "      <th>pub_name</th>\n",
       "      <th>is_hybrid</th>\n",
       "      <th>category</th>\n",
       "      <th>url</th>\n",
       "    </tr>\n",
       "  </thead>\n",
       "  <tbody>\n",
       "    <tr>\n",
       "      <th>0</th>\n",
       "      <td>0001-527X</td>\n",
       "      <td>Acta Biochimica Polonica</td>\n",
       "      <td>ACTA BIOCHIMICA POLONICA</td>\n",
       "      <td>0</td>\n",
       "      <td>MOLECULAR AND CELL BIOLOGY</td>\n",
       "      <td>NaN</td>\n",
       "    </tr>\n",
       "    <tr>\n",
       "      <th>1</th>\n",
       "      <td>0002-0397</td>\n",
       "      <td>Africa Spectrum</td>\n",
       "      <td>NaN</td>\n",
       "      <td>0</td>\n",
       "      <td>NaN</td>\n",
       "      <td>NaN</td>\n",
       "    </tr>\n",
       "    <tr>\n",
       "      <th>2</th>\n",
       "      <td>0003-0090</td>\n",
       "      <td>Bulletin of the American Museum of Natural His...</td>\n",
       "      <td>AMER MUSEUM NATURAL HISTORY</td>\n",
       "      <td>0</td>\n",
       "      <td>ECOLOGY AND EVOLUTION</td>\n",
       "      <td>NaN</td>\n",
       "    </tr>\n",
       "    <tr>\n",
       "      <th>3</th>\n",
       "      <td>0003-5521</td>\n",
       "      <td>L'anthropologie</td>\n",
       "      <td>Elsevier</td>\n",
       "      <td>1</td>\n",
       "      <td>Anthropology</td>\n",
       "      <td>NaN</td>\n",
       "    </tr>\n",
       "    <tr>\n",
       "      <th>4</th>\n",
       "      <td>0004-1254</td>\n",
       "      <td>Arhiv Za Higijenu Rada I Toksikologiju-Archive...</td>\n",
       "      <td>NaN</td>\n",
       "      <td>0</td>\n",
       "      <td>NaN</td>\n",
       "      <td>NaN</td>\n",
       "    </tr>\n",
       "  </tbody>\n",
       "</table>\n",
       "</div>"
      ],
      "text/plain": [
       "        issn                                       journal_name  \\\n",
       "0  0001-527X                           Acta Biochimica Polonica   \n",
       "1  0002-0397                                    Africa Spectrum   \n",
       "2  0003-0090  Bulletin of the American Museum of Natural His...   \n",
       "3  0003-5521                                    L'anthropologie   \n",
       "4  0004-1254  Arhiv Za Higijenu Rada I Toksikologiju-Archive...   \n",
       "\n",
       "                      pub_name  is_hybrid                    category  url  \n",
       "0     ACTA BIOCHIMICA POLONICA          0  MOLECULAR AND CELL BIOLOGY  NaN  \n",
       "1                          NaN          0                         NaN  NaN  \n",
       "2  AMER MUSEUM NATURAL HISTORY          0       ECOLOGY AND EVOLUTION  NaN  \n",
       "3                     Elsevier          1                Anthropology  NaN  \n",
       "4                          NaN          0                         NaN  NaN  "
      ]
     },
     "execution_count": 176,
     "metadata": {},
     "output_type": "execute_result"
    }
   ],
   "source": [
    "df.head()"
   ]
  },
  {
   "cell_type": "code",
   "execution_count": 177,
   "metadata": {},
   "outputs": [
    {
     "data": {
      "text/plain": [
       "issn               0\n",
       "journal_name       0\n",
       "pub_name        1470\n",
       "is_hybrid          0\n",
       "category        6331\n",
       "url             6788\n",
       "dtype: int64"
      ]
     },
     "execution_count": 177,
     "metadata": {},
     "output_type": "execute_result"
    }
   ],
   "source": [
    "df.isnull().sum()"
   ]
  },
  {
   "cell_type": "code",
   "execution_count": 178,
   "metadata": {},
   "outputs": [
    {
     "name": "stdout",
     "output_type": "stream",
     "text": [
      "<class 'pandas.core.frame.DataFrame'>\n",
      "RangeIndex: 13149 entries, 0 to 13148\n",
      "Data columns (total 6 columns):\n",
      " #   Column        Non-Null Count  Dtype \n",
      "---  ------        --------------  ----- \n",
      " 0   issn          13149 non-null  object\n",
      " 1   journal_name  13149 non-null  object\n",
      " 2   pub_name      11679 non-null  object\n",
      " 3   is_hybrid     13149 non-null  int64 \n",
      " 4   category      6818 non-null   object\n",
      " 5   url           6361 non-null   object\n",
      "dtypes: int64(1), object(5)\n",
      "memory usage: 616.5+ KB\n"
     ]
    }
   ],
   "source": [
    "df.info()"
   ]
  },
  {
   "cell_type": "code",
   "execution_count": 179,
   "metadata": {},
   "outputs": [],
   "source": [
    "\n",
    "df.pub_name = df.fillna(\"unknown\")\n",
    "df.category= df.fillna(\"unknown\")\n",
    "df.url = df.fillna(\"unknown\")"
   ]
  },
  {
   "cell_type": "code",
   "execution_count": 180,
   "metadata": {},
   "outputs": [
    {
     "data": {
      "text/plain": [
       "issn            0\n",
       "journal_name    0\n",
       "pub_name        0\n",
       "is_hybrid       0\n",
       "category        0\n",
       "url             0\n",
       "dtype: int64"
      ]
     },
     "execution_count": 180,
     "metadata": {},
     "output_type": "execute_result"
    }
   ],
   "source": [
    "df.isnull().sum()"
   ]
  },
  {
   "cell_type": "code",
   "execution_count": 181,
   "metadata": {},
   "outputs": [
    {
     "data": {
      "text/html": [
       "<div>\n",
       "<style scoped>\n",
       "    .dataframe tbody tr th:only-of-type {\n",
       "        vertical-align: middle;\n",
       "    }\n",
       "\n",
       "    .dataframe tbody tr th {\n",
       "        vertical-align: top;\n",
       "    }\n",
       "\n",
       "    .dataframe thead th {\n",
       "        text-align: right;\n",
       "    }\n",
       "</style>\n",
       "<table border=\"1\" class=\"dataframe\">\n",
       "  <thead>\n",
       "    <tr style=\"text-align: right;\">\n",
       "      <th></th>\n",
       "      <th>issn</th>\n",
       "      <th>journal_name</th>\n",
       "      <th>pub_name</th>\n",
       "      <th>is_hybrid</th>\n",
       "      <th>category</th>\n",
       "      <th>url</th>\n",
       "    </tr>\n",
       "  </thead>\n",
       "  <tbody>\n",
       "    <tr>\n",
       "      <th>0</th>\n",
       "      <td>0001-527X</td>\n",
       "      <td>Acta Biochimica Polonica</td>\n",
       "      <td>0001-527X</td>\n",
       "      <td>0</td>\n",
       "      <td>0001-527X</td>\n",
       "      <td>0001-527X</td>\n",
       "    </tr>\n",
       "    <tr>\n",
       "      <th>1</th>\n",
       "      <td>0002-0397</td>\n",
       "      <td>Africa Spectrum</td>\n",
       "      <td>0002-0397</td>\n",
       "      <td>0</td>\n",
       "      <td>0002-0397</td>\n",
       "      <td>0002-0397</td>\n",
       "    </tr>\n",
       "    <tr>\n",
       "      <th>2</th>\n",
       "      <td>0003-0090</td>\n",
       "      <td>Bulletin of the American Museum of Natural His...</td>\n",
       "      <td>0003-0090</td>\n",
       "      <td>0</td>\n",
       "      <td>0003-0090</td>\n",
       "      <td>0003-0090</td>\n",
       "    </tr>\n",
       "    <tr>\n",
       "      <th>3</th>\n",
       "      <td>0003-5521</td>\n",
       "      <td>L'anthropologie</td>\n",
       "      <td>0003-5521</td>\n",
       "      <td>1</td>\n",
       "      <td>0003-5521</td>\n",
       "      <td>0003-5521</td>\n",
       "    </tr>\n",
       "    <tr>\n",
       "      <th>4</th>\n",
       "      <td>0004-1254</td>\n",
       "      <td>Arhiv Za Higijenu Rada I Toksikologiju-Archive...</td>\n",
       "      <td>0004-1254</td>\n",
       "      <td>0</td>\n",
       "      <td>0004-1254</td>\n",
       "      <td>0004-1254</td>\n",
       "    </tr>\n",
       "  </tbody>\n",
       "</table>\n",
       "</div>"
      ],
      "text/plain": [
       "        issn                                       journal_name   pub_name  \\\n",
       "0  0001-527X                           Acta Biochimica Polonica  0001-527X   \n",
       "1  0002-0397                                    Africa Spectrum  0002-0397   \n",
       "2  0003-0090  Bulletin of the American Museum of Natural His...  0003-0090   \n",
       "3  0003-5521                                    L'anthropologie  0003-5521   \n",
       "4  0004-1254  Arhiv Za Higijenu Rada I Toksikologiju-Archive...  0004-1254   \n",
       "\n",
       "   is_hybrid   category        url  \n",
       "0          0  0001-527X  0001-527X  \n",
       "1          0  0002-0397  0002-0397  \n",
       "2          0  0003-0090  0003-0090  \n",
       "3          1  0003-5521  0003-5521  \n",
       "4          0  0004-1254  0004-1254  "
      ]
     },
     "execution_count": 181,
     "metadata": {},
     "output_type": "execute_result"
    }
   ],
   "source": [
    "df.head()"
   ]
  },
  {
   "cell_type": "code",
   "execution_count": 182,
   "metadata": {},
   "outputs": [
    {
     "name": "stdout",
     "output_type": "stream",
     "text": [
      "<class 'pandas.core.frame.DataFrame'>\n",
      "RangeIndex: 13149 entries, 0 to 13148\n",
      "Data columns (total 6 columns):\n",
      " #   Column        Non-Null Count  Dtype \n",
      "---  ------        --------------  ----- \n",
      " 0   issn          13149 non-null  object\n",
      " 1   journal_name  13149 non-null  object\n",
      " 2   pub_name      13149 non-null  object\n",
      " 3   is_hybrid     13149 non-null  int64 \n",
      " 4   category      13149 non-null  object\n",
      " 5   url           13149 non-null  object\n",
      "dtypes: int64(1), object(5)\n",
      "memory usage: 616.5+ KB\n"
     ]
    }
   ],
   "source": [
    "df.info()"
   ]
  },
  {
   "cell_type": "code",
   "execution_count": 184,
   "metadata": {},
   "outputs": [],
   "source": [
    "df[\"issn\"] = pd.to_numeric(df[\"issn\"],errors='coerce')\n"
   ]
  },
  {
   "cell_type": "code",
   "execution_count": 185,
   "metadata": {},
   "outputs": [
    {
     "name": "stdout",
     "output_type": "stream",
     "text": [
      "<class 'pandas.core.frame.DataFrame'>\n",
      "RangeIndex: 13149 entries, 0 to 13148\n",
      "Data columns (total 6 columns):\n",
      " #   Column        Non-Null Count  Dtype  \n",
      "---  ------        --------------  -----  \n",
      " 0   issn          0 non-null      float64\n",
      " 1   journal_name  13149 non-null  object \n",
      " 2   pub_name      13149 non-null  object \n",
      " 3   is_hybrid     13149 non-null  int64  \n",
      " 4   category      13149 non-null  object \n",
      " 5   url           13149 non-null  object \n",
      "dtypes: float64(1), int64(1), object(4)\n",
      "memory usage: 616.5+ KB\n"
     ]
    }
   ],
   "source": [
    "df.info()"
   ]
  },
  {
   "cell_type": "code",
   "execution_count": 186,
   "metadata": {},
   "outputs": [
    {
     "data": {
      "text/html": [
       "<div>\n",
       "<style scoped>\n",
       "    .dataframe tbody tr th:only-of-type {\n",
       "        vertical-align: middle;\n",
       "    }\n",
       "\n",
       "    .dataframe tbody tr th {\n",
       "        vertical-align: top;\n",
       "    }\n",
       "\n",
       "    .dataframe thead th {\n",
       "        text-align: right;\n",
       "    }\n",
       "</style>\n",
       "<table border=\"1\" class=\"dataframe\">\n",
       "  <thead>\n",
       "    <tr style=\"text-align: right;\">\n",
       "      <th></th>\n",
       "      <th>issn</th>\n",
       "      <th>journal_name</th>\n",
       "      <th>pub_name</th>\n",
       "      <th>is_hybrid</th>\n",
       "      <th>category</th>\n",
       "      <th>url</th>\n",
       "    </tr>\n",
       "  </thead>\n",
       "  <tbody>\n",
       "    <tr>\n",
       "      <th>0</th>\n",
       "      <td>NaN</td>\n",
       "      <td>Acta Biochimica Polonica</td>\n",
       "      <td>0001-527X</td>\n",
       "      <td>0</td>\n",
       "      <td>0001-527X</td>\n",
       "      <td>0001-527X</td>\n",
       "    </tr>\n",
       "    <tr>\n",
       "      <th>1</th>\n",
       "      <td>NaN</td>\n",
       "      <td>Africa Spectrum</td>\n",
       "      <td>0002-0397</td>\n",
       "      <td>0</td>\n",
       "      <td>0002-0397</td>\n",
       "      <td>0002-0397</td>\n",
       "    </tr>\n",
       "    <tr>\n",
       "      <th>2</th>\n",
       "      <td>NaN</td>\n",
       "      <td>Bulletin of the American Museum of Natural His...</td>\n",
       "      <td>0003-0090</td>\n",
       "      <td>0</td>\n",
       "      <td>0003-0090</td>\n",
       "      <td>0003-0090</td>\n",
       "    </tr>\n",
       "    <tr>\n",
       "      <th>3</th>\n",
       "      <td>NaN</td>\n",
       "      <td>L'anthropologie</td>\n",
       "      <td>0003-5521</td>\n",
       "      <td>1</td>\n",
       "      <td>0003-5521</td>\n",
       "      <td>0003-5521</td>\n",
       "    </tr>\n",
       "    <tr>\n",
       "      <th>4</th>\n",
       "      <td>NaN</td>\n",
       "      <td>Arhiv Za Higijenu Rada I Toksikologiju-Archive...</td>\n",
       "      <td>0004-1254</td>\n",
       "      <td>0</td>\n",
       "      <td>0004-1254</td>\n",
       "      <td>0004-1254</td>\n",
       "    </tr>\n",
       "  </tbody>\n",
       "</table>\n",
       "</div>"
      ],
      "text/plain": [
       "   issn                                       journal_name   pub_name  \\\n",
       "0   NaN                           Acta Biochimica Polonica  0001-527X   \n",
       "1   NaN                                    Africa Spectrum  0002-0397   \n",
       "2   NaN  Bulletin of the American Museum of Natural His...  0003-0090   \n",
       "3   NaN                                    L'anthropologie  0003-5521   \n",
       "4   NaN  Arhiv Za Higijenu Rada I Toksikologiju-Archive...  0004-1254   \n",
       "\n",
       "   is_hybrid   category        url  \n",
       "0          0  0001-527X  0001-527X  \n",
       "1          0  0002-0397  0002-0397  \n",
       "2          0  0003-0090  0003-0090  \n",
       "3          1  0003-5521  0003-5521  \n",
       "4          0  0004-1254  0004-1254  "
      ]
     },
     "execution_count": 186,
     "metadata": {},
     "output_type": "execute_result"
    }
   ],
   "source": [
    "df.head()"
   ]
  }
 ],
 "metadata": {
  "kernelspec": {
   "display_name": "Python 3",
   "language": "python",
   "name": "python3"
  },
  "language_info": {
   "codemirror_mode": {
    "name": "ipython",
    "version": 3
   },
   "file_extension": ".py",
   "mimetype": "text/x-python",
   "name": "python",
   "nbconvert_exporter": "python",
   "pygments_lexer": "ipython3",
   "version": "3.8.5"
  }
 },
 "nbformat": 4,
 "nbformat_minor": 4
}
