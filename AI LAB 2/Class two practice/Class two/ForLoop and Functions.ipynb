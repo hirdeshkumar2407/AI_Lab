{
 "cells": [
  {
   "cell_type": "code",
   "execution_count": 3,
   "metadata": {},
   "outputs": [
    {
     "name": "stdout",
     "output_type": "stream",
     "text": [
      "0\n",
      "1\n",
      "2\n",
      "3\n",
      "4\n",
      "5\n",
      "6\n",
      "7\n",
      "8\n",
      "9\n"
     ]
    }
   ],
   "source": [
    "#Basic for Loop\n",
    "for i in range(10):\n",
    "    print(i)"
   ]
  },
  {
   "cell_type": "code",
   "execution_count": 4,
   "metadata": {},
   "outputs": [
    {
     "name": "stdout",
     "output_type": "stream",
     "text": [
      "20\n",
      "22\n",
      "24\n",
      "26\n",
      "28\n"
     ]
    }
   ],
   "source": [
    "#For loop slicing\n",
    "for temp in range(20,30,2):\n",
    "    print(temp)"
   ]
  },
  {
   "cell_type": "code",
   "execution_count": 5,
   "metadata": {},
   "outputs": [
    {
     "name": "stdout",
     "output_type": "stream",
     "text": [
      "30\n",
      "28\n",
      "26\n",
      "24\n",
      "22\n",
      "20\n",
      "18\n",
      "16\n",
      "14\n",
      "12\n",
      "10\n",
      "8\n",
      "6\n",
      "4\n",
      "2\n"
     ]
    }
   ],
   "source": [
    "#For Reverse loop slicing\n",
    "for rev in range(30,1,-2):\n",
    "    print(rev)"
   ]
  },
  {
   "cell_type": "code",
   "execution_count": 9,
   "metadata": {},
   "outputs": [
    {
     "name": "stdout",
     "output_type": "stream",
     "text": [
      "My Favourite Subject is Urdu\n",
      "My Favourite Subject is English\n",
      "My Favourite Subject is History\n",
      "My Favourite Subject is Geography\n",
      "My Favourite Subject is Literature\n",
      "My Favourite Subject is English\n",
      "My Favourite Subject is French\n"
     ]
    }
   ],
   "source": [
    "Subjects=[\"Urdu\",\"English\",\"History\",\"Geography\",\"Literature\",\"English\",\"French\"]\n",
    "for subj in Subjects:\n",
    "    print (f\"My Favourite Subject is {subj}\")"
   ]
  },
  {
   "cell_type": "code",
   "execution_count": 17,
   "metadata": {},
   "outputs": [
    {
     "name": "stdout",
     "output_type": "stream",
     "text": [
      "2 is divisble by 2\n"
     ]
    }
   ],
   "source": [
    "#break in in loop\n",
    "for i in [1,2,3,4,5,6,7,8]:\n",
    "    if i%2==0:\n",
    "        print(f\"{i} is divisble by 2\")\n",
    "        break\n",
    " \n",
    "        \n"
   ]
  },
  {
   "cell_type": "code",
   "execution_count": 23,
   "metadata": {},
   "outputs": [
    {
     "name": "stdout",
     "output_type": "stream",
     "text": [
      "0\n",
      "1\n",
      "2\n",
      "3\n",
      "4\n",
      "5\n",
      "6\n",
      "8\n",
      "9\n",
      "10\n",
      "11\n",
      "12\n",
      "13\n",
      "14\n",
      "15\n",
      "16\n",
      "17\n",
      "18\n",
      "19\n",
      "20\n",
      "21\n",
      "22\n",
      "23\n",
      "24\n"
     ]
    }
   ],
   "source": [
    "#continue in for loop\n",
    "for num in range(25):\n",
    "    if num==7:\n",
    "        continue\n",
    "        \n",
    "    print(num)    \n"
   ]
  },
  {
   "cell_type": "code",
   "execution_count": 33,
   "metadata": {},
   "outputs": [
    {
     "name": "stdout",
     "output_type": "stream",
     "text": [
      "Inner loop starts here\n",
      "0P\n",
      "0a\n",
      "0k\n",
      "0i\n",
      "0s\n",
      "0t\n",
      "0a\n",
      "0n\n",
      "Inner loop starts here\n",
      "1P\n",
      "1a\n",
      "1k\n",
      "1i\n",
      "1s\n",
      "1t\n",
      "1a\n",
      "1n\n",
      "Inner loop starts here\n",
      "2P\n",
      "2a\n",
      "2k\n",
      "2i\n",
      "2s\n",
      "2t\n",
      "2a\n",
      "2n\n",
      "Inner loop starts here\n",
      "3P\n",
      "3a\n",
      "3k\n",
      "3i\n",
      "3s\n",
      "3t\n",
      "3a\n",
      "3n\n",
      "Inner loop starts here\n",
      "4P\n",
      "4a\n",
      "4k\n",
      "4i\n",
      "4s\n",
      "4t\n",
      "4a\n",
      "4n\n",
      "Inner loop starts here\n",
      "5P\n",
      "5a\n",
      "5k\n",
      "5i\n",
      "5s\n",
      "5t\n",
      "5a\n",
      "5n\n",
      "Inner loop starts here\n",
      "6P\n",
      "6a\n",
      "6k\n",
      "6i\n",
      "6s\n",
      "6t\n",
      "6a\n",
      "6n\n",
      "Inner loop starts here\n",
      "7P\n",
      "7a\n",
      "7k\n",
      "7i\n",
      "7s\n",
      "7t\n",
      "7a\n",
      "7n\n",
      "Inner loop starts here\n",
      "8P\n",
      "8a\n",
      "8k\n",
      "8i\n",
      "8s\n",
      "8t\n",
      "8a\n",
      "8n\n",
      "Inner loop starts here\n",
      "9P\n",
      "9a\n",
      "9k\n",
      "9i\n",
      "9s\n",
      "9t\n",
      "9a\n",
      "9n\n",
      "Inner loop starts here\n",
      "10P\n",
      "10a\n",
      "10k\n",
      "10i\n",
      "10s\n",
      "10t\n",
      "10a\n",
      "10n\n",
      "Inner loop starts here\n",
      "11P\n",
      "11a\n",
      "11k\n",
      "11i\n",
      "11s\n",
      "11t\n",
      "11a\n",
      "11n\n",
      "Inner loop starts here\n",
      "12P\n",
      "12a\n",
      "12k\n",
      "12i\n",
      "12s\n",
      "12t\n",
      "12a\n",
      "12n\n",
      "Inner loop starts here\n",
      "13P\n",
      "13a\n",
      "13k\n",
      "13i\n",
      "13s\n",
      "13t\n",
      "13a\n",
      "13n\n",
      "Inner loop starts here\n",
      "14P\n",
      "14a\n",
      "14k\n",
      "14i\n",
      "14s\n",
      "14t\n",
      "14a\n",
      "14n\n"
     ]
    }
   ],
   "source": [
    "#Nested for Loops\n",
    "for i in range(15):\n",
    "    print(\"Inner loop starts here\")\n",
    "    for a in \"Pakistan\":\n",
    "        print(f\"{i}{a}\")\n",
    "            "
   ]
  },
  {
   "cell_type": "code",
   "execution_count": 37,
   "metadata": {},
   "outputs": [],
   "source": [
    "#functions\n",
    "def addition():\n",
    "    userinput=input(\"Enter first number: \")\n",
    "    userinput2=input(\"Enter second num:\")\n",
    "    print(userinput+userinput2)"
   ]
  },
  {
   "cell_type": "code",
   "execution_count": 38,
   "metadata": {},
   "outputs": [
    {
     "name": "stdout",
     "output_type": "stream",
     "text": [
      "Enter first number: 23\n",
      "Enter second num:56\n",
      "2356\n"
     ]
    }
   ],
   "source": [
    "addition()"
   ]
  },
  {
   "cell_type": "code",
   "execution_count": 40,
   "metadata": {},
   "outputs": [],
   "source": [
    "#type case input functions\n",
    "def addition():\n",
    "    userinput=int(input(\"Enter first number: \"))\n",
    "    userinput2=int(input(\"Enter second num:\"))\n",
    "    print(userinput+userinput2)"
   ]
  },
  {
   "cell_type": "code",
   "execution_count": 41,
   "metadata": {},
   "outputs": [
    {
     "name": "stdout",
     "output_type": "stream",
     "text": [
      "Enter first number: 23\n",
      "Enter second num:5\n",
      "28\n"
     ]
    }
   ],
   "source": [
    "addition()"
   ]
  },
  {
   "cell_type": "code",
   "execution_count": 42,
   "metadata": {},
   "outputs": [],
   "source": [
    "def addition(x,y):\n",
    "    print(x+y)"
   ]
  },
  {
   "cell_type": "code",
   "execution_count": 43,
   "metadata": {},
   "outputs": [
    {
     "name": "stdout",
     "output_type": "stream",
     "text": [
      "5\n"
     ]
    }
   ],
   "source": [
    "addition(0,5)"
   ]
  }
 ],
 "metadata": {
  "kernelspec": {
   "display_name": "Python 3",
   "language": "python",
   "name": "python3"
  },
  "language_info": {
   "codemirror_mode": {
    "name": "ipython",
    "version": 3
   },
   "file_extension": ".py",
   "mimetype": "text/x-python",
   "name": "python",
   "nbconvert_exporter": "python",
   "pygments_lexer": "ipython3",
   "version": "3.8.5"
  }
 },
 "nbformat": 4,
 "nbformat_minor": 4
}
