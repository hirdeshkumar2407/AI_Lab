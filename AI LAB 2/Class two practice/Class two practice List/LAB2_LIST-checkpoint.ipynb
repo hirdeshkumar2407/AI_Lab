{
 "cells": [
  {
   "cell_type": "code",
   "execution_count": 7,
   "metadata": {},
   "outputs": [],
   "source": [
    "Subjects = [\"Maths\",\"English\",\"Computer Science\",\"Geography\", \"History\", \"Science\",\"Urdu\"]"
   ]
  },
  {
   "cell_type": "code",
   "execution_count": 8,
   "metadata": {},
   "outputs": [
    {
     "data": {
      "text/plain": [
       "7"
      ]
     },
     "execution_count": 8,
     "metadata": {},
     "output_type": "execute_result"
    }
   ],
   "source": [
    "#To find Length of List\n",
    "len(Subjects)\n"
   ]
  },
  {
   "cell_type": "code",
   "execution_count": 9,
   "metadata": {},
   "outputs": [
    {
     "data": {
      "text/plain": [
       "['Maths',\n",
       " 'English',\n",
       " 'Computer Science',\n",
       " 'Geography',\n",
       " 'History',\n",
       " 'Science',\n",
       " 'Urdu']"
      ]
     },
     "execution_count": 9,
     "metadata": {},
     "output_type": "execute_result"
    }
   ],
   "source": [
    "#prints the entrie data structure\n",
    "Subjects"
   ]
  },
  {
   "cell_type": "code",
   "execution_count": 10,
   "metadata": {},
   "outputs": [
    {
     "name": "stdout",
     "output_type": "stream",
     "text": [
      "['Maths', 'English', 'Computer Science', 'Geography', 'History', 'Science', 'Urdu']\n"
     ]
    }
   ],
   "source": [
    "print(Subjects)"
   ]
  },
  {
   "cell_type": "code",
   "execution_count": 17,
   "metadata": {},
   "outputs": [
    {
     "data": {
      "text/plain": [
       "3"
      ]
     },
     "execution_count": 17,
     "metadata": {},
     "output_type": "execute_result"
    }
   ],
   "source": [
    "#To find index of an element\n",
    "Subjects.index(\"Geography\")"
   ]
  },
  {
   "cell_type": "code",
   "execution_count": 13,
   "metadata": {},
   "outputs": [
    {
     "name": "stdout",
     "output_type": "stream",
     "text": [
      "['Maths', 'English', 'Computer Science', 'Geography', 'History', 'Science', 'English']\n"
     ]
    }
   ],
   "source": [
    "#Add an element\n",
    "Subjects[6]=\"English\"\n",
    "print(Subjects)"
   ]
  },
  {
   "cell_type": "code",
   "execution_count": 14,
   "metadata": {},
   "outputs": [
    {
     "data": {
      "text/plain": [
       "2"
      ]
     },
     "execution_count": 14,
     "metadata": {},
     "output_type": "execute_result"
    }
   ],
   "source": [
    "#To count an paticular element\n",
    "Subjects.count(\"English\")"
   ]
  },
  {
   "cell_type": "code",
   "execution_count": 16,
   "metadata": {},
   "outputs": [],
   "source": [
    "#Add element to tail\n",
    "Subjects.append(\"Urdu\")\n"
   ]
  },
  {
   "cell_type": "code",
   "execution_count": 18,
   "metadata": {},
   "outputs": [
    {
     "data": {
      "text/plain": [
       "['Maths',\n",
       " 'English',\n",
       " 'Computer Science',\n",
       " 'Geography',\n",
       " 'History',\n",
       " 'Science',\n",
       " 'English',\n",
       " 'Urdu',\n",
       " 'Urdu']"
      ]
     },
     "execution_count": 18,
     "metadata": {},
     "output_type": "execute_result"
    }
   ],
   "source": [
    "Subjects"
   ]
  },
  {
   "cell_type": "code",
   "execution_count": 21,
   "metadata": {},
   "outputs": [],
   "source": [
    "#To insert a patiular index  \n",
    "Subjects.insert(2,\"Literature\")"
   ]
  },
  {
   "cell_type": "code",
   "execution_count": 22,
   "metadata": {},
   "outputs": [
    {
     "data": {
      "text/plain": [
       "['Maths',\n",
       " 'English',\n",
       " 'Literature',\n",
       " 'Literature',\n",
       " 'Computer Science',\n",
       " 'Geography',\n",
       " 'History',\n",
       " 'Science',\n",
       " 'English',\n",
       " 'Urdu',\n",
       " 'Urdu']"
      ]
     },
     "execution_count": 22,
     "metadata": {},
     "output_type": "execute_result"
    }
   ],
   "source": [
    "Subjects\n"
   ]
  },
  {
   "cell_type": "code",
   "execution_count": 31,
   "metadata": {},
   "outputs": [],
   "source": [
    "Subjects.remove(\"Urdu\")"
   ]
  },
  {
   "cell_type": "code",
   "execution_count": 35,
   "metadata": {},
   "outputs": [],
   "source": [
    "Subjects.remove(\"Literature\")"
   ]
  },
  {
   "cell_type": "code",
   "execution_count": 27,
   "metadata": {},
   "outputs": [],
   "source": [
    "#To insert a patiular index  \n",
    "Subjects.insert(2,\"Literature\")"
   ]
  },
  {
   "cell_type": "code",
   "execution_count": 39,
   "metadata": {},
   "outputs": [],
   "source": [
    "#Add element to tail\n",
    "Subjects.append(\"Urdu\")"
   ]
  },
  {
   "cell_type": "code",
   "execution_count": 43,
   "metadata": {},
   "outputs": [
    {
     "data": {
      "text/plain": [
       "['Maths',\n",
       " 'English',\n",
       " 'Literature',\n",
       " 'Computer Science',\n",
       " 'Geography',\n",
       " 'History',\n",
       " 'Science',\n",
       " 'English',\n",
       " 'Urdu']"
      ]
     },
     "execution_count": 43,
     "metadata": {},
     "output_type": "execute_result"
    }
   ],
   "source": [
    "Subjects"
   ]
  },
  {
   "cell_type": "code",
   "execution_count": 42,
   "metadata": {},
   "outputs": [],
   "source": [
    "Subjects.insert(1,\"English\")"
   ]
  },
  {
   "cell_type": "code",
   "execution_count": 44,
   "metadata": {},
   "outputs": [
    {
     "data": {
      "text/plain": [
       "['Urdu',\n",
       " 'English',\n",
       " 'Science',\n",
       " 'History',\n",
       " 'Geography',\n",
       " 'Computer Science',\n",
       " 'Literature',\n",
       " 'English',\n",
       " 'Maths']"
      ]
     },
     "execution_count": 44,
     "metadata": {},
     "output_type": "execute_result"
    }
   ],
   "source": [
    "#Reverse the list\n",
    "Subjects.reverse()\n",
    "Subjects"
   ]
  },
  {
   "cell_type": "code",
   "execution_count": 45,
   "metadata": {},
   "outputs": [
    {
     "data": {
      "text/plain": [
       "['Urdu',\n",
       " 'English',\n",
       " 'Science',\n",
       " 'History',\n",
       " 'Geography',\n",
       " 'Literature',\n",
       " 'English',\n",
       " 'Maths']"
      ]
     },
     "execution_count": 45,
     "metadata": {},
     "output_type": "execute_result"
    }
   ],
   "source": [
    "#To remove by value\n",
    "Subjects.remove(\"Computer Science\")\n",
    "Subjects"
   ]
  },
  {
   "cell_type": "code",
   "execution_count": 50,
   "metadata": {},
   "outputs": [
    {
     "data": {
      "text/plain": [
       "['Urdu', 'English', 'History', 'Geography', 'Literature', 'English', 'Maths']"
      ]
     },
     "execution_count": 50,
     "metadata": {},
     "output_type": "execute_result"
    }
   ],
   "source": [
    "Subjects"
   ]
  },
  {
   "cell_type": "code",
   "execution_count": 47,
   "metadata": {},
   "outputs": [],
   "source": [
    "#Remove a element from index\n",
    "Removed_Sunj=Subjects.pop(2)"
   ]
  },
  {
   "cell_type": "code",
   "execution_count": 49,
   "metadata": {},
   "outputs": [],
   "source": [
    "Subjects.insert(2,\"History\")"
   ]
  },
  {
   "cell_type": "code",
   "execution_count": 51,
   "metadata": {},
   "outputs": [
    {
     "data": {
      "text/plain": [
       "['Urdu', 'English', 'History', 'Geography', 'Literature', 'English', 'Maths']"
      ]
     },
     "execution_count": 51,
     "metadata": {},
     "output_type": "execute_result"
    }
   ],
   "source": [
    "# To duplicate way 1\n",
    "Dupl_Sub=Subjects\n",
    "Dupl_Sub"
   ]
  },
  {
   "cell_type": "code",
   "execution_count": 52,
   "metadata": {},
   "outputs": [
    {
     "data": {
      "text/plain": [
       "['Urdu', 'English', 'History', 'Geography', 'Literature', 'English', 'Maths']"
      ]
     },
     "execution_count": 52,
     "metadata": {},
     "output_type": "execute_result"
    }
   ],
   "source": [
    "#To duplicate way 2\n",
    "Duplicate=Subjects.copy()\n",
    "Duplicate"
   ]
  },
  {
   "cell_type": "code",
   "execution_count": null,
   "metadata": {},
   "outputs": [],
   "source": [
    "#The difference between two Dupl_Subj just points to the orignial list \n",
    "#while second makes exact copy"
   ]
  },
  {
   "cell_type": "code",
   "execution_count": 53,
   "metadata": {},
   "outputs": [
    {
     "data": {
      "text/plain": [
       "['Urdu',\n",
       " 'English',\n",
       " 'History',\n",
       " 'Geography',\n",
       " 'Literature',\n",
       " 'English',\n",
       " 'Maths',\n",
       " 'French']"
      ]
     },
     "execution_count": 53,
     "metadata": {},
     "output_type": "execute_result"
    }
   ],
   "source": [
    "#Examp part i\n",
    "Subjects.append(\"French\")\n",
    "Subjects"
   ]
  },
  {
   "cell_type": "code",
   "execution_count": 54,
   "metadata": {},
   "outputs": [
    {
     "data": {
      "text/plain": [
       "['Urdu',\n",
       " 'English',\n",
       " 'History',\n",
       " 'Geography',\n",
       " 'Literature',\n",
       " 'English',\n",
       " 'Maths',\n",
       " 'French']"
      ]
     },
     "execution_count": 54,
     "metadata": {},
     "output_type": "execute_result"
    }
   ],
   "source": [
    "#Exam part ii\n",
    "Dupl_Sub"
   ]
  },
  {
   "cell_type": "code",
   "execution_count": 55,
   "metadata": {},
   "outputs": [
    {
     "data": {
      "text/plain": [
       "['Urdu', 'English', 'History', 'Geography', 'Literature', 'English', 'Maths']"
      ]
     },
     "execution_count": 55,
     "metadata": {},
     "output_type": "execute_result"
    }
   ],
   "source": [
    "#Exam part iii\n",
    "Duplicate"
   ]
  },
  {
   "cell_type": "code",
   "execution_count": null,
   "metadata": {},
   "outputs": [],
   "source": []
  }
 ],
 "metadata": {
  "kernelspec": {
   "display_name": "Python 3",
   "language": "python",
   "name": "python3"
  },
  "language_info": {
   "codemirror_mode": {
    "name": "ipython",
    "version": 3
   },
   "file_extension": ".py",
   "mimetype": "text/x-python",
   "name": "python",
   "nbconvert_exporter": "python",
   "pygments_lexer": "ipython3",
   "version": "3.8.5"
  }
 },
 "nbformat": 4,
 "nbformat_minor": 4
}
